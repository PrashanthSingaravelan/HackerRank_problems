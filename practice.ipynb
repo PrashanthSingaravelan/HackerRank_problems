{
 "cells": [
  {
   "cell_type": "code",
   "execution_count": 1,
   "id": "71a646e5",
   "metadata": {},
   "outputs": [],
   "source": [
    "import numpy as np"
   ]
  },
  {
   "cell_type": "code",
   "execution_count": 2,
   "id": "9454d3d3",
   "metadata": {},
   "outputs": [
    {
     "data": {
      "text/plain": [
       "[73, 67, 38, 33]"
      ]
     },
     "execution_count": 2,
     "metadata": {},
     "output_type": "execute_result"
    }
   ],
   "source": [
    "list1 = [73,67,38,33]\n",
    "list1"
   ]
  },
  {
   "cell_type": "code",
   "execution_count": 21,
   "id": "67b9402b",
   "metadata": {},
   "outputs": [],
   "source": [
    "def gradingStudents(n):\n",
    "    if n<38:\n",
    "        return n\n",
    "    else:\n",
    "        next_5_multiple = (np.floor(n/5) * 5 + 5)\n",
    "        if (next_5_multiple - n)<3:\n",
    "            return int(next_5_multiple)\n",
    "        else:\n",
    "            return n        "
   ]
  },
  {
   "cell_type": "code",
   "execution_count": 25,
   "id": "74e0aef1",
   "metadata": {},
   "outputs": [
    {
     "name": "stdout",
     "output_type": "stream",
     "text": [
      "3\n",
      "4\n",
      "5\n",
      "2\n",
      "4\n",
      "5\n",
      "2\n"
     ]
    }
   ],
   "source": [
    "n = int(input())\n",
    "list1 = [int(input()) for i in range(n)]\n",
    "for i in list1:\n",
    "    print(gradingStudents(i))"
   ]
  },
  {
   "cell_type": "code",
   "execution_count": 29,
   "id": "691b7cea",
   "metadata": {},
   "outputs": [
    {
     "data": {
      "text/plain": [
       "70"
      ]
     },
     "execution_count": 29,
     "metadata": {},
     "output_type": "execute_result"
    }
   ],
   "source": [
    "int(67/5) * 5 + 5"
   ]
  },
  {
   "cell_type": "code",
   "execution_count": 12,
   "id": "0eac13dd",
   "metadata": {},
   "outputs": [
    {
     "data": {
      "text/plain": [
       "75.0"
      ]
     },
     "execution_count": 12,
     "metadata": {},
     "output_type": "execute_result"
    }
   ],
   "source": []
  },
  {
   "cell_type": "code",
   "execution_count": 30,
   "id": "733ecd8a",
   "metadata": {},
   "outputs": [
    {
     "name": "stdout",
     "output_type": "stream",
     "text": [
      "4\n",
      "2\n",
      "3\n",
      "6\n",
      "7\n",
      "2\n",
      "3\n",
      "6\n",
      "7\n"
     ]
    }
   ],
   "source": [
    "def gradingStudents(n):\n",
    "    if n<38:\n",
    "        return n\n",
    "    else:\n",
    "        next_5_multiple = ( int(n/5) * 5 + 5)\n",
    "        if (next_5_multiple - n)<3:\n",
    "            return int(next_5_multiple)\n",
    "        else:\n",
    "            return n        \n",
    "\n",
    "if __name__ == \"__main__\":\n",
    "    n = int(input())\n",
    "    list1 = [int(input()) for i in range(n)]\n",
    "    for i in list1:\n",
    "        print(gradingStudents(i))"
   ]
  },
  {
   "cell_type": "code",
   "execution_count": null,
   "id": "e1ef4eb2",
   "metadata": {},
   "outputs": [],
   "source": []
  }
 ],
 "metadata": {
  "kernelspec": {
   "display_name": "Python 3",
   "language": "python",
   "name": "python3"
  },
  "language_info": {
   "codemirror_mode": {
    "name": "ipython",
    "version": 3
   },
   "file_extension": ".py",
   "mimetype": "text/x-python",
   "name": "python",
   "nbconvert_exporter": "python",
   "pygments_lexer": "ipython3",
   "version": "3.8.8"
  }
 },
 "nbformat": 4,
 "nbformat_minor": 5
}
