{
 "cells": [
  {
   "cell_type": "code",
   "execution_count": 1,
   "id": "71a646e5",
   "metadata": {},
   "outputs": [],
   "source": [
    "import numpy as np"
   ]
  },
  {
   "cell_type": "code",
   "execution_count": 2,
   "id": "9454d3d3",
   "metadata": {},
   "outputs": [
    {
     "data": {
      "text/plain": [
       "[73, 67, 38, 33]"
      ]
     },
     "execution_count": 2,
     "metadata": {},
     "output_type": "execute_result"
    }
   ],
   "source": [
    "list1 = [73,67,38,33]\n",
    "list1"
   ]
  },
  {
   "cell_type": "code",
   "execution_count": 21,
   "id": "67b9402b",
   "metadata": {},
   "outputs": [],
   "source": [
    "def gradingStudents(n):\n",
    "    if n<38:\n",
    "        return n\n",
    "    else:\n",
    "        next_5_multiple = (np.floor(n/5) * 5 + 5)\n",
    "        if (next_5_multiple - n)<3:\n",
    "            return int(next_5_multiple)\n",
    "        else:\n",
    "            return n        "
   ]
  },
  {
   "cell_type": "code",
   "execution_count": 25,
   "id": "74e0aef1",
   "metadata": {},
   "outputs": [
    {
     "name": "stdout",
     "output_type": "stream",
     "text": [
      "3\n",
      "4\n",
      "5\n",
      "2\n",
      "4\n",
      "5\n",
      "2\n"
     ]
    }
   ],
   "source": [
    "n = int(input())\n",
    "list1 = [int(input()) for i in range(n)]\n",
    "for i in list1:\n",
    "    print(gradingStudents(i))"
   ]
  },
  {
   "cell_type": "code",
   "execution_count": 29,
   "id": "691b7cea",
   "metadata": {},
   "outputs": [
    {
     "data": {
      "text/plain": [
       "70"
      ]
     },
     "execution_count": 29,
     "metadata": {},
     "output_type": "execute_result"
    }
   ],
   "source": [
    "int(67/5) * 5 + 5"
   ]
  },
  {
   "cell_type": "code",
   "execution_count": 12,
   "id": "0eac13dd",
   "metadata": {},
   "outputs": [
    {
     "data": {
      "text/plain": [
       "75.0"
      ]
     },
     "execution_count": 12,
     "metadata": {},
     "output_type": "execute_result"
    }
   ],
   "source": []
  },
  {
   "cell_type": "code",
   "execution_count": 30,
   "id": "733ecd8a",
   "metadata": {},
   "outputs": [
    {
     "name": "stdout",
     "output_type": "stream",
     "text": [
      "4\n",
      "2\n",
      "3\n",
      "6\n",
      "7\n",
      "2\n",
      "3\n",
      "6\n",
      "7\n"
     ]
    }
   ],
   "source": [
    "def gradingStudents(n):\n",
    "    if n<38:\n",
    "        return n\n",
    "    else:\n",
    "        next_5_multiple = ( int(n/5) * 5 + 5)\n",
    "        if (next_5_multiple - n)<3:\n",
    "            return int(next_5_multiple)\n",
    "        else:\n",
    "            return n        \n",
    "\n",
    "if __name__ == \"__main__\":\n",
    "    n = int(input())\n",
    "    list1 = [int(input()) for i in range(n)]\n",
    "    for i in list1:\n",
    "        print(gradingStudents(i))"
   ]
  },
  {
   "cell_type": "code",
   "execution_count": null,
   "id": "e1ef4eb2",
   "metadata": {},
   "outputs": [],
   "source": [
    "def breakingRecords(scores):"
   ]
  },
  {
   "cell_type": "code",
   "execution_count": null,
   "id": "a6549eb7",
   "metadata": {},
   "outputs": [],
   "source": [
    "if __name__ == '__main__':\n",
    "\n",
    "    n = int(input().strip())\n",
    "    scores = list(map(int, input().rstrip().split()))\n",
    "    result = breakingRecords(scores)"
   ]
  },
  {
   "cell_type": "code",
   "execution_count": 11,
   "id": "46c38839",
   "metadata": {},
   "outputs": [
    {
     "data": {
      "text/plain": [
       "[10, 5, 20, 20, 4, 5, 2, 25, 1]"
      ]
     },
     "execution_count": 11,
     "metadata": {},
     "output_type": "execute_result"
    }
   ],
   "source": []
  },
  {
   "cell_type": "code",
   "execution_count": 18,
   "id": "1218a029",
   "metadata": {},
   "outputs": [],
   "source": []
  },
  {
   "cell_type": "code",
   "execution_count": 66,
   "id": "a8c4d233",
   "metadata": {},
   "outputs": [],
   "source": [
    "scores = [10, 5, 20, 20, 4, 5, 2, 25, 1]\n",
    "\n",
    "highest_score = []\n",
    "high_cnt = 0\n",
    "\n",
    "lowest_score  = []\n",
    "low_cnt = 0\n",
    "\n",
    "highest_score.append(scores[0])\n",
    "lowest_score.append(scores[0])\n",
    "\n",
    "for i in range(1,len(scores)):\n",
    "    \n",
    "    if (scores[i] > highest_score[-1]):\n",
    "        lowest_score.append(lowest_score[-1])\n",
    "        highest_score.append(scores[i])\n",
    "        high_cnt+=1\n",
    "    \n",
    "    elif (scores[i] < lowest_score[-1]):\n",
    "        highest_score.append(highest_score[-1])\n",
    "        lowest_score.append(scores[i])\n",
    "        low_cnt+=1"
   ]
  },
  {
   "cell_type": "code",
   "execution_count": 67,
   "id": "3c08aacd",
   "metadata": {},
   "outputs": [
    {
     "data": {
      "text/plain": [
       "2"
      ]
     },
     "execution_count": 67,
     "metadata": {},
     "output_type": "execute_result"
    }
   ],
   "source": [
    "high_cnt"
   ]
  },
  {
   "cell_type": "code",
   "execution_count": 68,
   "id": "89ab93e6",
   "metadata": {},
   "outputs": [
    {
     "data": {
      "text/plain": [
       "4"
      ]
     },
     "execution_count": 68,
     "metadata": {},
     "output_type": "execute_result"
    }
   ],
   "source": [
    "low_cnt"
   ]
  },
  {
   "cell_type": "code",
   "execution_count": 69,
   "id": "dc5a0d39",
   "metadata": {},
   "outputs": [
    {
     "data": {
      "text/plain": [
       "[10, 10, 20, 20, 20, 25, 25]"
      ]
     },
     "execution_count": 69,
     "metadata": {},
     "output_type": "execute_result"
    }
   ],
   "source": [
    "highest_score"
   ]
  },
  {
   "cell_type": "code",
   "execution_count": 70,
   "id": "1be95a46",
   "metadata": {},
   "outputs": [
    {
     "data": {
      "text/plain": [
       "[10, 5, 5, 4, 2, 2, 1]"
      ]
     },
     "execution_count": 70,
     "metadata": {},
     "output_type": "execute_result"
    }
   ],
   "source": [
    "lowest_score"
   ]
  },
  {
   "cell_type": "code",
   "execution_count": 52,
   "id": "f4184af4",
   "metadata": {},
   "outputs": [
    {
     "name": "stdout",
     "output_type": "stream",
     "text": [
      "1\n",
      "2\n",
      "3\n",
      "4\n",
      "5\n",
      "6\n",
      "7\n",
      "8\n"
     ]
    }
   ],
   "source": [
    "for i in range(1,len(scores)):\n",
    "    print(i)"
   ]
  },
  {
   "cell_type": "code",
   "execution_count": 71,
   "id": "42409c34",
   "metadata": {},
   "outputs": [],
   "source": [
    "def breakingRecords(scores):\n",
    "    highest_score = []\n",
    "    high_cnt = 0\n",
    "\n",
    "    lowest_score  = []\n",
    "    low_cnt = 0\n",
    "\n",
    "    highest_score.append(scores[0])\n",
    "    lowest_score.append(scores[0])\n",
    "\n",
    "    for i in range(1,len(scores)):\n",
    "\n",
    "        if (scores[i] > highest_score[-1]):\n",
    "            lowest_score.append(lowest_score[-1])\n",
    "            highest_score.append(scores[i])\n",
    "            high_cnt+=1\n",
    "\n",
    "        elif (scores[i] < lowest_score[-1]):\n",
    "            highest_score.append(highest_score[-1])\n",
    "            lowest_score.append(scores[i])\n",
    "            low_cnt+=1\n",
    "    \n",
    "    print(high_cnt, end=' ')\n",
    "    print(low_cnt)"
   ]
  },
  {
   "cell_type": "code",
   "execution_count": 72,
   "id": "f656774c",
   "metadata": {},
   "outputs": [
    {
     "name": "stdout",
     "output_type": "stream",
     "text": [
      "2 4\n"
     ]
    }
   ],
   "source": [
    "scores = [10, 5, 20, 20, 4, 5, 2, 25, 1]\n",
    "breakingRecords(scores)"
   ]
  },
  {
   "cell_type": "code",
   "execution_count": null,
   "id": "19b04607",
   "metadata": {},
   "outputs": [],
   "source": []
  }
 ],
 "metadata": {
  "kernelspec": {
   "display_name": "Python 3 (ipykernel)",
   "language": "python",
   "name": "python3"
  },
  "language_info": {
   "codemirror_mode": {
    "name": "ipython",
    "version": 3
   },
   "file_extension": ".py",
   "mimetype": "text/x-python",
   "name": "python",
   "nbconvert_exporter": "python",
   "pygments_lexer": "ipython3",
   "version": "3.8.8"
  }
 },
 "nbformat": 4,
 "nbformat_minor": 5
}
